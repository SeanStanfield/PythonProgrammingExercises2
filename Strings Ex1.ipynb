{
 "cells": [
  {
   "cell_type": "markdown",
   "metadata": {},
   "source": [
    "## Strings excersise 1"
   ]
  },
  {
   "cell_type": "code",
   "execution_count": null,
   "metadata": {},
   "outputs": [],
   "source": [
    "#creating a string\n",
    "string1 = \"hello world\" #double quotes means text data\n",
    "Username = \"sean\"\n",
    "words = \"words are always strings\"\n",
    "questions = \"question sare always strings\"\n",
    "age = 10"
   ]
  },
  {
   "cell_type": "code",
   "execution_count": null,
   "metadata": {},
   "outputs": [],
   "source": [
    "# function that I can use to output, input and to do other things with strings\n",
    "\n",
    "print(words)\n",
    "print(words + Username)\n",
    "print(\"Greetings traveller! Are you the one and only \"+ Username) # basic concatenation\n",
    "print(\"Sean is\"+age)#this will not work as age is not a string so it cannot concatenate\n"
   ]
  },
  {
   "cell_type": "code",
   "execution_count": null,
   "metadata": {},
   "outputs": [],
   "source": [
    "print(\"hello user of age \" + str(age))"
   ]
  },
  {
   "cell_type": "code",
   "execution_count": 1,
   "metadata": {},
   "outputs": [
    {
     "name": "stdout",
     "output_type": "stream",
     "text": [
      "what is your namejahrg\n",
      "heloooo  jahrg\n",
      "what is your name264\n",
      "your age is  264\n"
     ]
    }
   ],
   "source": [
    "name = input(\"what is your name\")\n",
    "print(\"heloooo \", name)\n",
    "age =int(input(\"what is your name\"))\n",
    "print(\"your age is \", age)"
   ]
  },
  {
   "cell_type": "code",
   "execution_count": null,
   "metadata": {},
   "outputs": [],
   "source": []
  }
 ],
 "metadata": {
  "kernelspec": {
   "display_name": "Python 3",
   "language": "python",
   "name": "python3"
  },
  "language_info": {
   "codemirror_mode": {
    "name": "ipython",
    "version": 3
   },
   "file_extension": ".py",
   "mimetype": "text/x-python",
   "name": "python",
   "nbconvert_exporter": "python",
   "pygments_lexer": "ipython3",
   "version": "3.5.2"
  }
 },
 "nbformat": 4,
 "nbformat_minor": 2
}
